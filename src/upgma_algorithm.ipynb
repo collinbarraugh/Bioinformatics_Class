{
 "cells": [
  {
   "cell_type": "markdown",
   "metadata": {},
   "source": [
    "# UPGMA Algorithm\n",
    "\n",
    "1. Assign each taxon to its own cluster\n",
    "\n",
    "2. Define one leaf for each taxon; place it at height 0\n",
    "\n",
    "3. While more than two clusters:\n",
    "\n",
    "    - Determine two clusters $i$ and $j$ with smallest $d_{ij}$\n",
    "    \n",
    "    - Define a new cluster $C_k = C_i ∪ C_j$\n",
    "\n",
    "    - Define a node $k$ with children $i$ and $j$, place it at height $d_{ij}/2$\n",
    "    \n",
    "    - Replace clusters $i$ and $j$ with $k$\n",
    "    \n",
    "    - Compute distance between $k$ and other clusters\n",
    "    \n",
    "4. Join last two clusters $i$ and $j$ by root at height $d_{ij}/2$"
   ]
  },
  {
   "cell_type": "code",
   "execution_count": 4,
   "metadata": {},
   "outputs": [],
   "source": [
    "import numpy as np\n",
    "import matplotlib.pyplot as plt"
   ]
  },
  {
   "cell_type": "code",
   "execution_count": 5,
   "metadata": {},
   "outputs": [],
   "source": [
    "# Input matrices must be square and symmetric with -1s on the diagonal\n",
    "\n",
    "example = [\n",
    "    [-1, 19, 27, 8, 33, 18, 13],\n",
    "    [19, -1, 31, 18, 36, 1, 13],\n",
    "    [27, 31, -1, 26, 41, 32, 29],\n",
    "    [8, 18, 26, -1, 31, 17, 14],\n",
    "    [33, 36, 41, 31, -1, 35, 28],\n",
    "    [18, 1, 32, 17, 35, -1, 12],\n",
    "    [13, 13, 29, 14, 28, 12, -1]\n",
    "]"
   ]
  },
  {
   "cell_type": "code",
   "execution_count": 6,
   "metadata": {},
   "outputs": [],
   "source": [
    "letters = ['a', 'b', 'c', 'd', 'e', 'f', 'g']"
   ]
  },
  {
   "cell_type": "code",
   "execution_count": 7,
   "metadata": {},
   "outputs": [],
   "source": [
    "def upgma_iteration(matrix, original, replaced_indices, codes):\n",
    "    \"\"\"\n",
    "    matrix = square matrix input\n",
    "    original = the first matrix input\n",
    "    \"\"\"\n",
    "    original = np.array(matrix, dtype=float)\n",
    "\n",
    "    # Convert matrix input to numpy array\n",
    "    matrix = np.array(matrix, dtype=float)\n",
    "    dim = matrix.shape\n",
    "\n",
    "    # Check to make sure matrix size is valid for the algorithm\n",
    "    assert(dim[0] == dim[1]), \"Input is not a square matrix.\"\n",
    "    assert(dim[0 != 1]), \"Everything is grouped.\"\n",
    "\n",
    "    # Find the next shortest pairwise distance and the corresponding indices (groups) in the CURRENT matrix\n",
    "    current_min = np.max(matrix)\n",
    "    pair = (-1,-1)\n",
    "    for r in range(dim[0]):\n",
    "        for c in range(dim[1]):\n",
    "            if r <= c: #stay out of upper traingular matix\n",
    "                continue\n",
    "            elif current_min > matrix[r,c]:\n",
    "                current_min = matrix[r,c]\n",
    "                pair = (r, c) #pair are the indices in the context of the current matrix\n",
    "    \n",
    "    #Let's keep track of the groupings\n",
    "    new_codes = [None] * (len(codes) - 1)\n",
    "    i = 0\n",
    "    while i < len(new_codes):\n",
    "        if i == min(pair):\n",
    "            new_codes[i] = codes[i] + codes[max(pair)]\n",
    "            i = i + 1\n",
    "        elif i >= max(pair):\n",
    "            new_codes[i] = codes[i+1]\n",
    "            i = i+1\n",
    "        else:\n",
    "            new_codes[i] = codes[i]\n",
    "            i = i+1\n",
    "\n",
    "    # Keep track of the number of individuals grouped together that you are about to join\n",
    "    paired_count1 = len(codes[pair[0]])\n",
    "    paired_count2 = len(codes[pair[1]])\n",
    "    \n",
    "    # Calculate the depth of the new branch\n",
    "    depth = current_min / 2\n",
    "\n",
    "    #Take slices\n",
    "    slice1 = matrix[:, pair[0]]\n",
    "    slice1[pair[1]] = -1\n",
    "    slice2 = matrix[:, pair[1]]\n",
    "    slice2[pair[0]] = -1\n",
    "\n",
    "    # Calculate the mean pairwise distances with other sequences in new matrix.\n",
    "    pairwise_mean = sum([slice1*paired_count1, slice2*paired_count2]) / (paired_count1+paired_count2)\n",
    "    \n",
    "    if dim[0] > 2:\n",
    "        # Remove the second occurence of -1\n",
    "        second_negative_index = np.where(pairwise_mean==-1)[0][1]\n",
    "        pairwise_mean = np.delete(pairwise_mean, second_negative_index)\n",
    "\n",
    "        # Construct the new matrix\n",
    "        index_del = max(pair)\n",
    "        index_replace = min(pair)\n",
    "        new_matrix = np.delete(matrix, index_del, axis=0)\n",
    "        new_matrix = np.delete(new_matrix, index_del, axis=1)\n",
    "\n",
    "        for i in range(len(pairwise_mean)):\n",
    "            new_matrix[index_replace,i] = pairwise_mean[i]\n",
    "            new_matrix[i,index_replace] = pairwise_mean[i]\n",
    "\n",
    "        new_matrix[new_matrix == 0] = -1\n",
    "    else:\n",
    "        new_matrix = np.array([np.max(original)])\n",
    "        index_replace=0\n",
    "    \n",
    "    return {\"new_matrix\":new_matrix, \"depth\":depth, \"original_matrix\": original, \"index_replace\":index_replace, \"new_codes\": new_codes}"
   ]
  },
  {
   "cell_type": "code",
   "execution_count": 23,
   "metadata": {},
   "outputs": [],
   "source": [
    "def upgma_full(matrix, codes):\n",
    "\n",
    "    original = np.array(matrix, dtype=float)\n",
    "    current_matrix = np.array(matrix, dtype=float)\n",
    "    dim = current_matrix.shape[0]\n",
    "    replaced_indices = []\n",
    "    groupings_stack = []\n",
    "    depth_stack = []\n",
    "    \n",
    "    while dim > 1:\n",
    "        iterresults = upgma_iteration(current_matrix, original, replaced_indices, codes)\n",
    "        replaced_indices.append(iterresults[\"index_replace\"])\n",
    "        current_matrix = iterresults[\"new_matrix\"]\n",
    "        groupings_stack.append(codes)\n",
    "        depth_stack.append(iterresults[\"depth\"])\n",
    "        codes = iterresults[\"new_codes\"]\n",
    "        dim = current_matrix.shape[0]\n",
    "\n",
    "    distances = np.concatenate([np.array([0]), depth_stack])\n",
    "    last_entry = groupings_stack[-1][0] + groupings_stack[-1][1]\n",
    "    groupings_stack.append([last_entry])\n",
    "\n",
    "    return {'groups': groupings_stack, 'depths': distances}\n"
   ]
  },
  {
   "cell_type": "code",
   "execution_count": 24,
   "metadata": {},
   "outputs": [],
   "source": [
    "stacks = upgma_full(example, letters)"
   ]
  },
  {
   "cell_type": "code",
   "execution_count": 25,
   "metadata": {},
   "outputs": [
    {
     "name": "stdout",
     "output_type": "stream",
     "text": [
      "[['a', 'b', 'c', 'd', 'e', 'f', 'g'], ['a', 'bf', 'c', 'd', 'e', 'g'], ['ad', 'bf', 'c', 'e', 'g'], ['ad', 'bfg', 'c', 'e'], ['adbfg', 'c', 'e'], ['adbfgc', 'e'], ['adbfgce']]\n"
     ]
    }
   ],
   "source": [
    "print(stacks['groups'])"
   ]
  },
  {
   "cell_type": "code",
   "execution_count": null,
   "metadata": {},
   "outputs": [],
   "source": []
  }
 ],
 "metadata": {
  "interpreter": {
   "hash": "96697edfbc0613edbbe2da72a43930c083bd52cb42e9153bb2b7271b291bee42"
  },
  "kernelspec": {
   "display_name": "Python 3.7.7 64-bit ('base': conda)",
   "language": "python",
   "name": "python3"
  },
  "language_info": {
   "codemirror_mode": {
    "name": "ipython",
    "version": 3
   },
   "file_extension": ".py",
   "mimetype": "text/x-python",
   "name": "python",
   "nbconvert_exporter": "python",
   "pygments_lexer": "ipython3",
   "version": "3.7.11"
  },
  "orig_nbformat": 4
 },
 "nbformat": 4,
 "nbformat_minor": 2
}
