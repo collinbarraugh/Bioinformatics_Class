{
 "cells": [
  {
   "cell_type": "markdown",
   "metadata": {},
   "source": [
    "# UPGMA Algorithm\n",
    "\n",
    "1. Assign each taxon to its own cluster\n",
    "\n",
    "2. Define one leaf for each taxon; place it at height 0\n",
    "\n",
    "3. While more than two clusters:\n",
    "\n",
    "    - Determine two clusters $i$ and $j$ with smallest $d_{ij}$\n",
    "    \n",
    "    - Define a new cluster $C_k = C_i ∪ C_j$\n",
    "\n",
    "    - Define a node $k$ with children $i$ and $j$, place it at height $d_{ij}/2$\n",
    "    \n",
    "    - Replace clusters $i$ and $j$ with $k$\n",
    "    \n",
    "    - Compute distance between $k$ and other clusters\n",
    "    \n",
    "4. Join last two clusters $i$ and $j$ by root at height $d_{ij}/2$"
   ]
  },
  {
   "cell_type": "code",
   "execution_count": 1,
   "metadata": {},
   "outputs": [],
   "source": [
    "import numpy as np"
   ]
  },
  {
   "cell_type": "code",
   "execution_count": 2,
   "metadata": {},
   "outputs": [],
   "source": [
    "# Input matrices must be square and symmetric with -1s on the diagonal\n",
    "\n",
    "example = [\n",
    "    [-1, 19, 27, 8, 33, 18, 13],\n",
    "    [19, -1, 31, 18, 36, 1, 13],\n",
    "    [27, 31, -1, 26, 41, 32, 29],\n",
    "    [8, 18, 26, -1, 31, 17, 14],\n",
    "    [33, 36, 41, 31, -1, 35, 28],\n",
    "    [18, 1, 32, 17, 35, -1, 12],\n",
    "    [13, 13, 29, 14, 28, 12, -1]\n",
    "]"
   ]
  },
  {
   "cell_type": "code",
   "execution_count": null,
   "metadata": {},
   "outputs": [],
   "source": [
    "# example = {\n",
    "#     0: [],\n",
    "#     1: [19],\n",
    "#     2: [27, 31],\n",
    "#     3: [8, 18, 26],\n",
    "#     4: [33, 36, 41, 31],\n",
    "#     5: [18, 1, 32, 17, 35],\n",
    "#     6: [13, 13, 29, 14, 28, 12]\n",
    "# }"
   ]
  },
  {
   "cell_type": "code",
   "execution_count": 10,
   "metadata": {},
   "outputs": [],
   "source": [
    "def upgma_iteration(matrix):\n",
    "\n",
    "    # Convert matrix input to numpy array\n",
    "    matrix = np.array(matrix, dtype=float)\n",
    "    dim = matrix.shape\n",
    "\n",
    "    # Check to make sure matrix size is valid for the algorithm\n",
    "    assert(dim[0] == dim[1]), \"Input is not a square matrix.\"\n",
    "    assert(dim[0 != 1]), \"Everything is grouped.\"\n",
    "\n",
    "    # Find the shortest pairwise distance and the corresponding indices (groups)\n",
    "    current_min = np.max(matrix)\n",
    "    pair = (-1,-1)\n",
    "    for r in range(dim[0]):\n",
    "        for c in range(dim[1]):\n",
    "            if r <= c:\n",
    "                continue\n",
    "            elif current_min > matrix[r,c]:\n",
    "                current_min = matrix[r,c]\n",
    "                pair = (r, c)\n",
    "\n",
    "    # Calculate the depth of the new branch\n",
    "    depth = current_min / 2\n",
    "\n",
    "    # Get all values in the row corresponding to each item in pair\n",
    "    lr = matrix[:, pair[0]]\n",
    "    lc = matrix[:, pair[1]]\n",
    "\n",
    "    # Calculate the mean pairwise distances with other sequences in new matrix.\n",
    "    lrc_avg = (lr + lc) / 2\n",
    "\n",
    "    # Remove the second occurence of -1\n",
    "    print(pair)\n",
    "    print(lr)\n",
    "    print(lc)\n",
    "    print(lrc_avg)\n",
    "    print(np.where(lrc_avg==0))\n",
    "    second_negative_index = np.where(lrc_avg==0)[0][1]\n",
    "    lrc_avg = np.delete(lrc_avg, second_negative_index)\n",
    "\n",
    "    # Construct the new matrix\n",
    "    r = pair[0]\n",
    "    c = pair[1]\n",
    "    new_matrix = np.delete(matrix, r, axis=0)\n",
    "    new_matrix = np.delete(new_matrix, r, axis=1)\n",
    "\n",
    "    for i in range(len(lrc_avg)):\n",
    "        new_matrix[c,i] = lrc_avg[i]\n",
    "        new_matrix[i,c] = lrc_avg[i]\n",
    "    \n",
    "    return {\"new_matrix\":new_matrix, \"pair\":pair, \"depth\":depth}"
   ]
  },
  {
   "cell_type": "code",
   "execution_count": 11,
   "metadata": {},
   "outputs": [],
   "source": [
    "def upgma_full(matrix):\n",
    "\n",
    "    matrix = np.array(matrix, dtype=float)\n",
    "    dim = matrix.shape[0]\n",
    "    pairing_stack = []\n",
    "    \n",
    "    while dim > 1:\n",
    "        print(matrix)\n",
    "        print(dim)\n",
    "        iterresults = upgma_iteration(matrix)\n",
    "        pairing_stack.append(iterresults)\n",
    "        matrix = iterresults[\"new_matrix\"]\n",
    "        dim = matrix.shape[0]\n"
   ]
  },
  {
   "cell_type": "code",
   "execution_count": 12,
   "metadata": {},
   "outputs": [
    {
     "name": "stdout",
     "output_type": "stream",
     "text": [
      "[[-1. 19. 27.  8. 33. 18. 13.]\n",
      " [19. -1. 31. 18. 36.  1. 13.]\n",
      " [27. 31. -1. 26. 41. 32. 29.]\n",
      " [ 8. 18. 26. -1. 31. 17. 14.]\n",
      " [33. 36. 41. 31. -1. 35. 28.]\n",
      " [18.  1. 32. 17. 35. -1. 12.]\n",
      " [13. 13. 29. 14. 28. 12. -1.]]\n",
      "7\n",
      "(5, 1)\n",
      "[18.  1. 32. 17. 35. -1. 12.]\n",
      "[19. -1. 31. 18. 36.  1. 13.]\n",
      "[18.5  0.  31.5 17.5 35.5  0.  12.5]\n",
      "(array([1, 5]),)\n",
      "[[-1.  18.5 27.   8.  33.  13. ]\n",
      " [18.5  0.  31.5 17.5 35.5 12.5]\n",
      " [27.  31.5 -1.  26.  41.  29. ]\n",
      " [ 8.  17.5 26.  -1.  31.  14. ]\n",
      " [33.  35.5 41.  31.  -1.  28. ]\n",
      " [13.  12.5 29.  14.  28.  -1. ]]\n",
      "6\n",
      "(3, 0)\n",
      "[ 8.  17.5 26.  -1.  31.  14. ]\n",
      "[-1.  18.5 27.   8.  33.  13. ]\n",
      "[ 3.5 18.  26.5  3.5 32.  13.5]\n",
      "(array([], dtype=int64),)\n"
     ]
    },
    {
     "ename": "IndexError",
     "evalue": "index 1 is out of bounds for axis 0 with size 0",
     "output_type": "error",
     "traceback": [
      "\u001b[0;31m---------------------------------------------------------------------------\u001b[0m",
      "\u001b[0;31mIndexError\u001b[0m                                Traceback (most recent call last)",
      "\u001b[0;32m/var/folders/d3/69ms1j5d4vj5krs6vw_bn2580000gs/T/ipykernel_35316/1616285467.py\u001b[0m in \u001b[0;36m<module>\u001b[0;34m\u001b[0m\n\u001b[0;32m----> 1\u001b[0;31m \u001b[0mstack\u001b[0m \u001b[0;34m=\u001b[0m \u001b[0mupgma_full\u001b[0m\u001b[0;34m(\u001b[0m\u001b[0mexample\u001b[0m\u001b[0;34m)\u001b[0m\u001b[0;34m\u001b[0m\u001b[0;34m\u001b[0m\u001b[0m\n\u001b[0m",
      "\u001b[0;32m/var/folders/d3/69ms1j5d4vj5krs6vw_bn2580000gs/T/ipykernel_35316/1358652850.py\u001b[0m in \u001b[0;36mupgma_full\u001b[0;34m(matrix)\u001b[0m\n\u001b[1;32m      8\u001b[0m         \u001b[0mprint\u001b[0m\u001b[0;34m(\u001b[0m\u001b[0mmatrix\u001b[0m\u001b[0;34m)\u001b[0m\u001b[0;34m\u001b[0m\u001b[0;34m\u001b[0m\u001b[0m\n\u001b[1;32m      9\u001b[0m         \u001b[0mprint\u001b[0m\u001b[0;34m(\u001b[0m\u001b[0mdim\u001b[0m\u001b[0;34m)\u001b[0m\u001b[0;34m\u001b[0m\u001b[0;34m\u001b[0m\u001b[0m\n\u001b[0;32m---> 10\u001b[0;31m         \u001b[0miterresults\u001b[0m \u001b[0;34m=\u001b[0m \u001b[0mupgma_iteration\u001b[0m\u001b[0;34m(\u001b[0m\u001b[0mmatrix\u001b[0m\u001b[0;34m)\u001b[0m\u001b[0;34m\u001b[0m\u001b[0;34m\u001b[0m\u001b[0m\n\u001b[0m\u001b[1;32m     11\u001b[0m         \u001b[0mpairing_stack\u001b[0m\u001b[0;34m.\u001b[0m\u001b[0mappend\u001b[0m\u001b[0;34m(\u001b[0m\u001b[0miterresults\u001b[0m\u001b[0;34m)\u001b[0m\u001b[0;34m\u001b[0m\u001b[0;34m\u001b[0m\u001b[0m\n\u001b[1;32m     12\u001b[0m         \u001b[0mmatrix\u001b[0m \u001b[0;34m=\u001b[0m \u001b[0miterresults\u001b[0m\u001b[0;34m[\u001b[0m\u001b[0;34m\"new_matrix\"\u001b[0m\u001b[0;34m]\u001b[0m\u001b[0;34m\u001b[0m\u001b[0;34m\u001b[0m\u001b[0m\n",
      "\u001b[0;32m/var/folders/d3/69ms1j5d4vj5krs6vw_bn2580000gs/T/ipykernel_35316/454715284.py\u001b[0m in \u001b[0;36mupgma_iteration\u001b[0;34m(matrix)\u001b[0m\n\u001b[1;32m     36\u001b[0m     \u001b[0mprint\u001b[0m\u001b[0;34m(\u001b[0m\u001b[0mlrc_avg\u001b[0m\u001b[0;34m)\u001b[0m\u001b[0;34m\u001b[0m\u001b[0;34m\u001b[0m\u001b[0m\n\u001b[1;32m     37\u001b[0m     \u001b[0mprint\u001b[0m\u001b[0;34m(\u001b[0m\u001b[0mnp\u001b[0m\u001b[0;34m.\u001b[0m\u001b[0mwhere\u001b[0m\u001b[0;34m(\u001b[0m\u001b[0mlrc_avg\u001b[0m\u001b[0;34m==\u001b[0m\u001b[0;36m0\u001b[0m\u001b[0;34m)\u001b[0m\u001b[0;34m)\u001b[0m\u001b[0;34m\u001b[0m\u001b[0;34m\u001b[0m\u001b[0m\n\u001b[0;32m---> 38\u001b[0;31m     \u001b[0msecond_negative_index\u001b[0m \u001b[0;34m=\u001b[0m \u001b[0mnp\u001b[0m\u001b[0;34m.\u001b[0m\u001b[0mwhere\u001b[0m\u001b[0;34m(\u001b[0m\u001b[0mlrc_avg\u001b[0m\u001b[0;34m==\u001b[0m\u001b[0;36m0\u001b[0m\u001b[0;34m)\u001b[0m\u001b[0;34m[\u001b[0m\u001b[0;36m0\u001b[0m\u001b[0;34m]\u001b[0m\u001b[0;34m[\u001b[0m\u001b[0;36m1\u001b[0m\u001b[0;34m]\u001b[0m\u001b[0;34m\u001b[0m\u001b[0;34m\u001b[0m\u001b[0m\n\u001b[0m\u001b[1;32m     39\u001b[0m     \u001b[0mlrc_avg\u001b[0m \u001b[0;34m=\u001b[0m \u001b[0mnp\u001b[0m\u001b[0;34m.\u001b[0m\u001b[0mdelete\u001b[0m\u001b[0;34m(\u001b[0m\u001b[0mlrc_avg\u001b[0m\u001b[0;34m,\u001b[0m \u001b[0msecond_negative_index\u001b[0m\u001b[0;34m)\u001b[0m\u001b[0;34m\u001b[0m\u001b[0;34m\u001b[0m\u001b[0m\n\u001b[1;32m     40\u001b[0m \u001b[0;34m\u001b[0m\u001b[0m\n",
      "\u001b[0;31mIndexError\u001b[0m: index 1 is out of bounds for axis 0 with size 0"
     ]
    }
   ],
   "source": [
    "stack = upgma_full(example)"
   ]
  }
 ],
 "metadata": {
  "interpreter": {
   "hash": "96697edfbc0613edbbe2da72a43930c083bd52cb42e9153bb2b7271b291bee42"
  },
  "kernelspec": {
   "display_name": "Python 3.7.7 64-bit ('base': conda)",
   "language": "python",
   "name": "python3"
  },
  "language_info": {
   "codemirror_mode": {
    "name": "ipython",
    "version": 3
   },
   "file_extension": ".py",
   "mimetype": "text/x-python",
   "name": "python",
   "nbconvert_exporter": "python",
   "pygments_lexer": "ipython3",
   "version": "3.7.7"
  },
  "orig_nbformat": 4
 },
 "nbformat": 4,
 "nbformat_minor": 2
}
