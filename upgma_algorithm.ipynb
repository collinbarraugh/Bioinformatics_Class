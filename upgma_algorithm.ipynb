{
 "cells": [
  {
   "cell_type": "markdown",
   "metadata": {},
   "source": [
    "# UPGMA Algorithm\n",
    "\n",
    "1. Assign each taxon to its own cluster\n",
    "\n",
    "2. Define one leaf for each taxon; place it at height 0\n",
    "\n",
    "3. While more than two clusters:\n",
    "\n",
    "    - Determine two clusters $i$ and $j$ with smallest $d_{ij}$\n",
    "    \n",
    "    - Define a new cluster $C_k = C_i ∪ C_j$\n",
    "\n",
    "    - Define a node $k$ with children $i$ and $j$, place it at height $d_{ij}/2$\n",
    "    \n",
    "    - Replace clusters $i$ and $j$ with $k$\n",
    "    \n",
    "    - Compute distance between $k$ and other clusters\n",
    "    \n",
    "4. Join last two clusters $i$ and $j$ by root at height $d_{ij}/2$"
   ]
  },
  {
   "cell_type": "code",
   "execution_count": 1,
   "metadata": {},
   "outputs": [],
   "source": [
    "import numpy as np"
   ]
  },
  {
   "cell_type": "code",
   "execution_count": 2,
   "metadata": {},
   "outputs": [],
   "source": [
    "# Input matrices must be square and symmetric with -1s on the diagonal\n",
    "\n",
    "example = [\n",
    "    [-1, 19, 27, 8, 33, 18, 13],\n",
    "    [19, -1, 31, 18, 36, 1, 13],\n",
    "    [27, 31, -1, 26, 41, 32, 29],\n",
    "    [8, 18, 26, -1, 31, 17, 14],\n",
    "    [33, 36, 41, 31, -1, 35, 28],\n",
    "    [18, 1, 32, 17, 35, -1, 12],\n",
    "    [13, 13, 29, 14, 28, 12, -1]\n",
    "]"
   ]
  },
  {
   "cell_type": "code",
   "execution_count": null,
   "metadata": {},
   "outputs": [],
   "source": [
    "# example = {\n",
    "#     0: [],\n",
    "#     1: [19],\n",
    "#     2: [27, 31],\n",
    "#     3: [8, 18, 26],\n",
    "#     4: [33, 36, 41, 31],\n",
    "#     5: [18, 1, 32, 17, 35],\n",
    "#     6: [13, 13, 29, 14, 28, 12]\n",
    "# }"
   ]
  },
  {
   "cell_type": "code",
   "execution_count": 47,
   "metadata": {},
   "outputs": [],
   "source": [
    "def upgma_iteration(matrix, original, pair_list):\n",
    "    \"\"\"\n",
    "    matrix = square matrix input\n",
    "    original = the first matrix input\n",
    "    \"\"\"\n",
    "    original = np.array(matrix, dtype=float)\n",
    "\n",
    "    # Convert matrix input to numpy array\n",
    "    matrix = np.array(matrix, dtype=float)\n",
    "    dim = matrix.shape\n",
    "\n",
    "    # Check to make sure matrix size is valid for the algorithm\n",
    "    assert(dim[0] == dim[1]), \"Input is not a square matrix.\"\n",
    "    assert(dim[0 != 1]), \"Everything is grouped.\"\n",
    "\n",
    "    # Find the next shortest pairwise distance and the corresponding indices (groups) in the CURRENT matrix\n",
    "    current_min = np.max(matrix)\n",
    "    pair = (-1,-1)\n",
    "    for r in range(dim[0]):\n",
    "        for c in range(dim[1]):\n",
    "            if r <= c: #stay out of upper traingular matix\n",
    "                continue\n",
    "            elif current_min > matrix[r,c]:\n",
    "                current_min = matrix[r,c]\n",
    "                pair = (r, c)\n",
    "\n",
    "    # Reconstruct the original values of the indices of pair so that they fit into the original matrix\n",
    "    pair_current = pair # in context of current matrix\n",
    "    \n",
    "    pair_original = pair # TODO: in context of original matrix (this is what we need to reconstruct)\n",
    "\n",
    "    # Add to pair list\n",
    "    pair_list.append(pair_original)\n",
    "\n",
    "    # Calculate the depth of the new branch\n",
    "    depth = current_min / 2\n",
    "\n",
    "    slice_list = []\n",
    "    for p in pair_list:\n",
    "        slice_list.append(original[:, p[0]])\n",
    "        slice_list.append(original[:, p[1]])\n",
    "\n",
    "    # Calculate the mean pairwise distances with other sequences in new matrix.\n",
    "    pairwise_mean = sum(slice_list) / len(pair_list)*2\n",
    "\n",
    "    # Remove the second occurence of -1\n",
    "    second_negative_index = np.where(pairwise_mean==0)[0][1]\n",
    "    pairwise_mean = np.delete(pairwise_mean, second_negative_index)\n",
    "\n",
    "    # Construct the new matrix\n",
    "    index_del = max(pair_current)\n",
    "    index_replace = min(pair_current)\n",
    "    new_matrix = np.delete(matrix, index_del, axis=0)\n",
    "    new_matrix = np.delete(new_matrix, index_del, axis=1)\n",
    "\n",
    "    for i in range(len(pairwise_mean)):\n",
    "        new_matrix[index_replace,i] = pairwise_mean[i]\n",
    "        new_matrix[i,index_replace] = pairwise_mean[i]\n",
    "\n",
    "    new_matrix[new_matrix == 0] = -1\n",
    "    \n",
    "    return {\"new_matrix\":new_matrix, \"pair\":pair_original, \"depth\":depth, \"original_matrix\": original}"
   ]
  },
  {
   "cell_type": "code",
   "execution_count": 48,
   "metadata": {},
   "outputs": [],
   "source": [
    "def upgma_full(matrix):\n",
    "\n",
    "    original = np.array(matrix, dtype=float)\n",
    "    current_matrix = np.array(matrix, dtype=float)\n",
    "    dim = current_matrix.shape[0]\n",
    "    pairing_stack = [] # keep track of prior pairs so that we can reconstruct the matrix later\n",
    "    pair_list = [] # keep track of indices of the prior minimum in the original matrix\n",
    "    \n",
    "    while dim > 1:\n",
    "        iterresults = upgma_iteration(current_matrix, original, pair_list)\n",
    "        pairing_stack.append(iterresults)\n",
    "        current_matrix = iterresults[\"new_matrix\"]\n",
    "        dim = current_matrix.shape[0]\n"
   ]
  },
  {
   "cell_type": "code",
   "execution_count": 49,
   "metadata": {},
   "outputs": [
    {
     "name": "stdout",
     "output_type": "stream",
     "text": [
      "6\n",
      "[[ -1.  74.  27.   8.  33.  13.]\n",
      " [ 74.  -1. 126.  70. 142.  50.]\n",
      " [ 27. 126.  -1.  26.  41.  29.]\n",
      " [  8.  70.  26.  -1.  31.  14.]\n",
      " [ 33. 142.  41.  31.  -1.  28.]\n",
      " [ 13.  50.  29.  14.  28.  -1.]]\n",
      "[[-1. 19. 27.  8. 33. 18. 13.]\n",
      " [19. -1. 31. 18. 36.  1. 13.]\n",
      " [27. 31. -1. 26. 41. 32. 29.]\n",
      " [ 8. 18. 26. -1. 31. 17. 14.]\n",
      " [33. 36. 41. 31. -1. 35. 28.]\n",
      " [18.  1. 32. 17. 35. -1. 12.]\n",
      " [13. 13. 29. 14. 28. 12. -1.]]\n"
     ]
    },
    {
     "ename": "IndexError",
     "evalue": "index 1 is out of bounds for axis 0 with size 0",
     "output_type": "error",
     "traceback": [
      "\u001b[0;31m---------------------------------------------------------------------------\u001b[0m",
      "\u001b[0;31mIndexError\u001b[0m                                Traceback (most recent call last)",
      "\u001b[0;32m/var/folders/d3/69ms1j5d4vj5krs6vw_bn2580000gs/T/ipykernel_35316/1089558285.py\u001b[0m in \u001b[0;36m<module>\u001b[0;34m\u001b[0m\n\u001b[0;32m----> 1\u001b[0;31m \u001b[0mstack\u001b[0m \u001b[0;34m=\u001b[0m \u001b[0mupgma_full\u001b[0m\u001b[0;34m(\u001b[0m\u001b[0mexample\u001b[0m\u001b[0;34m)\u001b[0m\u001b[0;34m\u001b[0m\u001b[0;34m\u001b[0m\u001b[0m\n\u001b[0m\u001b[1;32m      2\u001b[0m \u001b[0;34m\u001b[0m\u001b[0m\n",
      "\u001b[0;32m/var/folders/d3/69ms1j5d4vj5krs6vw_bn2580000gs/T/ipykernel_35316/3582980020.py\u001b[0m in \u001b[0;36mupgma_full\u001b[0;34m(matrix)\u001b[0m\n\u001b[1;32m     12\u001b[0m             \u001b[0mprint\u001b[0m\u001b[0;34m(\u001b[0m\u001b[0mcurrent_matrix\u001b[0m\u001b[0;34m)\u001b[0m\u001b[0;34m\u001b[0m\u001b[0;34m\u001b[0m\u001b[0m\n\u001b[1;32m     13\u001b[0m             \u001b[0mprint\u001b[0m\u001b[0;34m(\u001b[0m\u001b[0moriginal\u001b[0m\u001b[0;34m)\u001b[0m\u001b[0;34m\u001b[0m\u001b[0;34m\u001b[0m\u001b[0m\n\u001b[0;32m---> 14\u001b[0;31m         \u001b[0miterresults\u001b[0m \u001b[0;34m=\u001b[0m \u001b[0mupgma_iteration\u001b[0m\u001b[0;34m(\u001b[0m\u001b[0mcurrent_matrix\u001b[0m\u001b[0;34m,\u001b[0m \u001b[0moriginal\u001b[0m\u001b[0;34m,\u001b[0m \u001b[0mpair_list\u001b[0m\u001b[0;34m)\u001b[0m\u001b[0;34m\u001b[0m\u001b[0;34m\u001b[0m\u001b[0m\n\u001b[0m\u001b[1;32m     15\u001b[0m         \u001b[0mpairing_stack\u001b[0m\u001b[0;34m.\u001b[0m\u001b[0mappend\u001b[0m\u001b[0;34m(\u001b[0m\u001b[0miterresults\u001b[0m\u001b[0;34m)\u001b[0m\u001b[0;34m\u001b[0m\u001b[0;34m\u001b[0m\u001b[0m\n\u001b[1;32m     16\u001b[0m         \u001b[0mcurrent_matrix\u001b[0m \u001b[0;34m=\u001b[0m \u001b[0miterresults\u001b[0m\u001b[0;34m[\u001b[0m\u001b[0;34m\"new_matrix\"\u001b[0m\u001b[0;34m]\u001b[0m\u001b[0;34m\u001b[0m\u001b[0;34m\u001b[0m\u001b[0m\n",
      "\u001b[0;32m/var/folders/d3/69ms1j5d4vj5krs6vw_bn2580000gs/T/ipykernel_35316/1206004963.py\u001b[0m in \u001b[0;36mupgma_iteration\u001b[0;34m(matrix, original, pair_list)\u001b[0m\n\u001b[1;32m     45\u001b[0m \u001b[0;34m\u001b[0m\u001b[0m\n\u001b[1;32m     46\u001b[0m     \u001b[0;31m# Remove the second occurence of -1\u001b[0m\u001b[0;34m\u001b[0m\u001b[0;34m\u001b[0m\u001b[0;34m\u001b[0m\u001b[0m\n\u001b[0;32m---> 47\u001b[0;31m     \u001b[0msecond_negative_index\u001b[0m \u001b[0;34m=\u001b[0m \u001b[0mnp\u001b[0m\u001b[0;34m.\u001b[0m\u001b[0mwhere\u001b[0m\u001b[0;34m(\u001b[0m\u001b[0mpairwise_mean\u001b[0m\u001b[0;34m==\u001b[0m\u001b[0;36m0\u001b[0m\u001b[0;34m)\u001b[0m\u001b[0;34m[\u001b[0m\u001b[0;36m0\u001b[0m\u001b[0;34m]\u001b[0m\u001b[0;34m[\u001b[0m\u001b[0;36m1\u001b[0m\u001b[0;34m]\u001b[0m\u001b[0;34m\u001b[0m\u001b[0;34m\u001b[0m\u001b[0m\n\u001b[0m\u001b[1;32m     48\u001b[0m     \u001b[0mpairwise_mean\u001b[0m \u001b[0;34m=\u001b[0m \u001b[0mnp\u001b[0m\u001b[0;34m.\u001b[0m\u001b[0mdelete\u001b[0m\u001b[0;34m(\u001b[0m\u001b[0mpairwise_mean\u001b[0m\u001b[0;34m,\u001b[0m \u001b[0msecond_negative_index\u001b[0m\u001b[0;34m)\u001b[0m\u001b[0;34m\u001b[0m\u001b[0;34m\u001b[0m\u001b[0m\n\u001b[1;32m     49\u001b[0m \u001b[0;34m\u001b[0m\u001b[0m\n",
      "\u001b[0;31mIndexError\u001b[0m: index 1 is out of bounds for axis 0 with size 0"
     ]
    }
   ],
   "source": [
    "stack = upgma_full(example)"
   ]
  }
 ],
 "metadata": {
  "interpreter": {
   "hash": "96697edfbc0613edbbe2da72a43930c083bd52cb42e9153bb2b7271b291bee42"
  },
  "kernelspec": {
   "display_name": "Python 3.7.7 64-bit ('base': conda)",
   "language": "python",
   "name": "python3"
  },
  "language_info": {
   "codemirror_mode": {
    "name": "ipython",
    "version": 3
   },
   "file_extension": ".py",
   "mimetype": "text/x-python",
   "name": "python",
   "nbconvert_exporter": "python",
   "pygments_lexer": "ipython3",
   "version": "3.7.7"
  },
  "orig_nbformat": 4
 },
 "nbformat": 4,
 "nbformat_minor": 2
}
