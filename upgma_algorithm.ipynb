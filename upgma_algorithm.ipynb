{
 "cells": [
  {
   "cell_type": "markdown",
   "metadata": {},
   "source": [
    "# UPGMA Algorithm\n",
    "\n",
    "1. Assign each taxon to its own cluster\n",
    "\n",
    "2. Define one leaf for each taxon; place it at height 0\n",
    "\n",
    "3. While more than two clusters:\n",
    "\n",
    "    - Determine two clusters $i$ and $j$ with smallest $d_{ij}$\n",
    "    \n",
    "    - Define a new cluster $C_k = C_i ∪ C_j$\n",
    "\n",
    "    - Define a node $k$ with children $i$ and $j$, place it at height $d_{ij}/2$\n",
    "    \n",
    "    - Replace clusters $i$ and $j$ with $k$\n",
    "    \n",
    "    - Compute distance between $k$ and other clusters\n",
    "    \n",
    "4. Join last two clusters $i$ and $j$ by root at height $d_{ij}/2$"
   ]
  },
  {
   "cell_type": "code",
   "execution_count": 1,
   "metadata": {},
   "outputs": [],
   "source": [
    "import numpy as np"
   ]
  },
  {
   "cell_type": "code",
   "execution_count": 27,
   "metadata": {},
   "outputs": [],
   "source": [
    "# Input matrices must be square and symmetric with -1s on the diagonal\n",
    "\n",
    "example = [\n",
    "    [-1, 19, 27, 8, 33, 18, 13],\n",
    "    [19, -1, 31, 18, 36, 1, 13],\n",
    "    [27, 31, -1, 26, 41, 32, 29],\n",
    "    [8, 18, 26, -1, 31, 17, 14],\n",
    "    [33, 36, 41, 31, -1, 35, 28],\n",
    "    [18, 1, 32, 17, 35, -1, 12],\n",
    "    [13, 13, 29, 14, 28, 12, -1]\n",
    "]"
   ]
  },
  {
   "cell_type": "code",
   "execution_count": 66,
   "metadata": {},
   "outputs": [],
   "source": [
    "letters = ['a', 'b', 'c', 'd', 'e', 'f', 'g']"
   ]
  },
  {
   "cell_type": "code",
   "execution_count": null,
   "metadata": {},
   "outputs": [],
   "source": [
    "# example = {\n",
    "#     0: [],\n",
    "#     1: [19],\n",
    "#     2: [27, 31],\n",
    "#     3: [8, 18, 26],\n",
    "#     4: [33, 36, 41, 31],\n",
    "#     5: [18, 1, 32, 17, 35],\n",
    "#     6: [13, 13, 29, 14, 28, 12]\n",
    "# }"
   ]
  },
  {
   "cell_type": "code",
   "execution_count": 90,
   "metadata": {},
   "outputs": [],
   "source": [
    "def upgma_iteration(matrix, original, replaced_indices, codes):\n",
    "    \"\"\"\n",
    "    matrix = square matrix input\n",
    "    original = the first matrix input\n",
    "    \"\"\"\n",
    "    original = np.array(matrix, dtype=float)\n",
    "\n",
    "    # Convert matrix input to numpy array\n",
    "    matrix = np.array(matrix, dtype=float)\n",
    "    dim = matrix.shape\n",
    "\n",
    "    # Check to make sure matrix size is valid for the algorithm\n",
    "    assert(dim[0] == dim[1]), \"Input is not a square matrix.\"\n",
    "    assert(dim[0 != 1]), \"Everything is grouped.\"\n",
    "\n",
    "    # Find the next shortest pairwise distance and the corresponding indices (groups) in the CURRENT matrix\n",
    "    current_min = np.max(matrix)\n",
    "    pair = (-1,-1)\n",
    "    for r in range(dim[0]):\n",
    "        for c in range(dim[1]):\n",
    "            if r <= c: #stay out of upper traingular matix\n",
    "                continue\n",
    "            elif current_min > matrix[r,c]:\n",
    "                current_min = matrix[r,c]\n",
    "                pair = (r, c) #pair are the indices in the context of the current matrix\n",
    "\n",
    "    print(pair)\n",
    "    \n",
    "    #Let's keep track of the groupings\n",
    "    new_codes = [None] * (len(codes) - 1)\n",
    "    i = 0\n",
    "    while i < len(new_codes):\n",
    "        if i == min(pair):\n",
    "            new_codes[i] = codes[i] + codes[max(pair)]\n",
    "            i = i + 1\n",
    "        elif i >= max(pair):\n",
    "            new_codes[i] = codes[i+1]\n",
    "            i = i+1\n",
    "        else:\n",
    "            new_codes[i] = codes[i]\n",
    "            i = i+1\n",
    "\n",
    "    # Keep track of the number of individuals grouped together that you are about to join\n",
    "    paired_count1 = len(codes[pair[0]])\n",
    "    paired_count2 = len(codes[pair[1]])\n",
    "    \n",
    "    # Calculate the depth of the new branch\n",
    "    depth = current_min / 2\n",
    "\n",
    "    #Take slices\n",
    "    slice1 = matrix[:, pair[0]]\n",
    "    slice1[pair[1]] = -1\n",
    "    slice2 = matrix[:, pair[1]]\n",
    "    slice2[pair[0]] = -1\n",
    "\n",
    "    print(\"paired_count1\", paired_count1)\n",
    "    print(\"paired_count2\", paired_count2)\n",
    "    # Calculate the mean pairwise distances with other sequences in new matrix.\n",
    "    pairwise_mean = sum([slice1*paired_count1, slice2*paired_count2]) / (paired_count1+paired_count2)\n",
    "    \n",
    "\n",
    "    # Remove the second occurence of -1\n",
    "    second_negative_index = np.where(pairwise_mean==-1)[0][1]\n",
    "    pairwise_mean = np.delete(pairwise_mean, second_negative_index)\n",
    "\n",
    "    # Construct the new matrix\n",
    "    index_del = max(pair)\n",
    "    index_replace = min(pair)\n",
    "    new_matrix = np.delete(matrix, index_del, axis=0)\n",
    "    new_matrix = np.delete(new_matrix, index_del, axis=1)\n",
    "\n",
    "    for i in range(len(pairwise_mean)):\n",
    "        new_matrix[index_replace,i] = pairwise_mean[i]\n",
    "        new_matrix[i,index_replace] = pairwise_mean[i]\n",
    "\n",
    "    new_matrix[new_matrix == 0] = -1\n",
    "    \n",
    "    return {\"new_matrix\":new_matrix, \"depth\":depth, \"original_matrix\": original, \"index_replace\":index_replace, \"new_codes\": new_codes}"
   ]
  },
  {
   "cell_type": "code",
   "execution_count": 91,
   "metadata": {},
   "outputs": [],
   "source": [
    "def upgma_full(matrix, codes):\n",
    "\n",
    "    original = np.array(matrix, dtype=float)\n",
    "    current_matrix = np.array(matrix, dtype=float)\n",
    "    dim = current_matrix.shape[0]\n",
    "    replaced_indices = []\n",
    "    groupings_stack = []\n",
    "    \n",
    "    while dim > 1:\n",
    "        if dim <= 3:\n",
    "            print(current_matrix)\n",
    "        iterresults = upgma_iteration(current_matrix, original, replaced_indices, codes)\n",
    "        replaced_indices.append(iterresults[\"index_replace\"])\n",
    "        current_matrix = iterresults[\"new_matrix\"]\n",
    "        groupings_stack.append(codes)\n",
    "        print(codes)\n",
    "        codes = iterresults[\"new_codes\"]\n",
    "        dim = current_matrix.shape[0]\n"
   ]
  },
  {
   "cell_type": "code",
   "execution_count": 92,
   "metadata": {},
   "outputs": [
    {
     "name": "stdout",
     "output_type": "stream",
     "text": [
      "(5, 1)\n",
      "paired_count1 1\n",
      "paired_count2 1\n",
      "['a', 'b', 'c', 'd', 'e', 'f', 'g']\n",
      "(3, 0)\n",
      "paired_count1 1\n",
      "paired_count2 1\n",
      "['a', 'bf', 'c', 'd', 'e', 'g']\n",
      "(4, 1)\n",
      "paired_count1 1\n",
      "paired_count2 2\n",
      "['ad', 'bf', 'c', 'e', 'g']\n",
      "(1, 0)\n",
      "paired_count1 3\n",
      "paired_count2 2\n",
      "['ad', 'bfg', 'c', 'e']\n",
      "[[-1.  29.  32.6]\n",
      " [29.  -1.  41. ]\n",
      " [32.6 41.  -1. ]]\n",
      "(1, 0)\n",
      "paired_count1 1\n",
      "paired_count2 5\n",
      "['adbfg', 'c', 'e']\n",
      "[[-1. 34.]\n",
      " [34. -1.]]\n",
      "(-1, -1)\n",
      "paired_count1 1\n",
      "paired_count2 1\n"
     ]
    },
    {
     "ename": "IndexError",
     "evalue": "index 1 is out of bounds for axis 0 with size 1",
     "output_type": "error",
     "traceback": [
      "\u001b[0;31m---------------------------------------------------------------------------\u001b[0m",
      "\u001b[0;31mIndexError\u001b[0m                                Traceback (most recent call last)",
      "\u001b[0;32m/var/folders/d3/69ms1j5d4vj5krs6vw_bn2580000gs/T/ipykernel_68587/205394069.py\u001b[0m in \u001b[0;36m<module>\u001b[0;34m\u001b[0m\n\u001b[0;32m----> 1\u001b[0;31m \u001b[0mstack\u001b[0m \u001b[0;34m=\u001b[0m \u001b[0mupgma_full\u001b[0m\u001b[0;34m(\u001b[0m\u001b[0mexample\u001b[0m\u001b[0;34m,\u001b[0m \u001b[0mletters\u001b[0m\u001b[0;34m)\u001b[0m\u001b[0;34m\u001b[0m\u001b[0;34m\u001b[0m\u001b[0m\n\u001b[0m",
      "\u001b[0;32m/var/folders/d3/69ms1j5d4vj5krs6vw_bn2580000gs/T/ipykernel_68587/3762180350.py\u001b[0m in \u001b[0;36mupgma_full\u001b[0;34m(matrix, codes)\u001b[0m\n\u001b[1;32m     10\u001b[0m         \u001b[0;32mif\u001b[0m \u001b[0mdim\u001b[0m \u001b[0;34m<=\u001b[0m \u001b[0;36m3\u001b[0m\u001b[0;34m:\u001b[0m\u001b[0;34m\u001b[0m\u001b[0;34m\u001b[0m\u001b[0m\n\u001b[1;32m     11\u001b[0m             \u001b[0mprint\u001b[0m\u001b[0;34m(\u001b[0m\u001b[0mcurrent_matrix\u001b[0m\u001b[0;34m)\u001b[0m\u001b[0;34m\u001b[0m\u001b[0;34m\u001b[0m\u001b[0m\n\u001b[0;32m---> 12\u001b[0;31m         \u001b[0miterresults\u001b[0m \u001b[0;34m=\u001b[0m \u001b[0mupgma_iteration\u001b[0m\u001b[0;34m(\u001b[0m\u001b[0mcurrent_matrix\u001b[0m\u001b[0;34m,\u001b[0m \u001b[0moriginal\u001b[0m\u001b[0;34m,\u001b[0m \u001b[0mreplaced_indices\u001b[0m\u001b[0;34m,\u001b[0m \u001b[0mcodes\u001b[0m\u001b[0;34m)\u001b[0m\u001b[0;34m\u001b[0m\u001b[0;34m\u001b[0m\u001b[0m\n\u001b[0m\u001b[1;32m     13\u001b[0m         \u001b[0mreplaced_indices\u001b[0m\u001b[0;34m.\u001b[0m\u001b[0mappend\u001b[0m\u001b[0;34m(\u001b[0m\u001b[0miterresults\u001b[0m\u001b[0;34m[\u001b[0m\u001b[0;34m\"index_replace\"\u001b[0m\u001b[0;34m]\u001b[0m\u001b[0;34m)\u001b[0m\u001b[0;34m\u001b[0m\u001b[0;34m\u001b[0m\u001b[0m\n\u001b[1;32m     14\u001b[0m         \u001b[0mcurrent_matrix\u001b[0m \u001b[0;34m=\u001b[0m \u001b[0miterresults\u001b[0m\u001b[0;34m[\u001b[0m\u001b[0;34m\"new_matrix\"\u001b[0m\u001b[0;34m]\u001b[0m\u001b[0;34m\u001b[0m\u001b[0;34m\u001b[0m\u001b[0m\n",
      "\u001b[0;32m/var/folders/d3/69ms1j5d4vj5krs6vw_bn2580000gs/T/ipykernel_68587/3892908383.py\u001b[0m in \u001b[0;36mupgma_iteration\u001b[0;34m(matrix, original, replaced_indices, codes)\u001b[0m\n\u001b[1;32m     70\u001b[0m \u001b[0;34m\u001b[0m\u001b[0m\n\u001b[1;32m     71\u001b[0m     \u001b[0;31m# Remove the second occurence of -1\u001b[0m\u001b[0;34m\u001b[0m\u001b[0;34m\u001b[0m\u001b[0;34m\u001b[0m\u001b[0m\n\u001b[0;32m---> 72\u001b[0;31m     \u001b[0msecond_negative_index\u001b[0m \u001b[0;34m=\u001b[0m \u001b[0mnp\u001b[0m\u001b[0;34m.\u001b[0m\u001b[0mwhere\u001b[0m\u001b[0;34m(\u001b[0m\u001b[0mpairwise_mean\u001b[0m\u001b[0;34m==\u001b[0m\u001b[0;34m-\u001b[0m\u001b[0;36m1\u001b[0m\u001b[0;34m)\u001b[0m\u001b[0;34m[\u001b[0m\u001b[0;36m0\u001b[0m\u001b[0;34m]\u001b[0m\u001b[0;34m[\u001b[0m\u001b[0;36m1\u001b[0m\u001b[0;34m]\u001b[0m\u001b[0;34m\u001b[0m\u001b[0;34m\u001b[0m\u001b[0m\n\u001b[0m\u001b[1;32m     73\u001b[0m     \u001b[0mpairwise_mean\u001b[0m \u001b[0;34m=\u001b[0m \u001b[0mnp\u001b[0m\u001b[0;34m.\u001b[0m\u001b[0mdelete\u001b[0m\u001b[0;34m(\u001b[0m\u001b[0mpairwise_mean\u001b[0m\u001b[0;34m,\u001b[0m \u001b[0msecond_negative_index\u001b[0m\u001b[0;34m)\u001b[0m\u001b[0;34m\u001b[0m\u001b[0;34m\u001b[0m\u001b[0m\n\u001b[1;32m     74\u001b[0m \u001b[0;34m\u001b[0m\u001b[0m\n",
      "\u001b[0;31mIndexError\u001b[0m: index 1 is out of bounds for axis 0 with size 1"
     ]
    }
   ],
   "source": [
    "stack = upgma_full(example, letters)"
   ]
  },
  {
   "cell_type": "code",
   "execution_count": 54,
   "metadata": {},
   "outputs": [
    {
     "name": "stdout",
     "output_type": "stream",
     "text": [
      "5 1 6\n"
     ]
    }
   ],
   "source": [
    "#Math for computing the final matrix value ADBFGC --> E. It should be 34 = (32.6*5 + 41*1) / 6\n",
    "\n",
    "x_list = [1, 2, 3, 4, 5, 6, 7, 8, 9 ,10]\n",
    "y_list = [1, 2, 3, 4, 5, 6, 7, 8, 9 ,10]\n",
    "z_list = [1, 2, 3, 4, 5, 6, 7, 8, 9 ,10]\n",
    "for x in x_list:\n",
    "    for y in y_list:\n",
    "        for z in z_list:\n",
    "            hello = (32.6*x+41*y) / z\n",
    "            if hello == 34:\n",
    "                print(x, y, z)\n"
   ]
  }
 ],
 "metadata": {
  "interpreter": {
   "hash": "96697edfbc0613edbbe2da72a43930c083bd52cb42e9153bb2b7271b291bee42"
  },
  "kernelspec": {
   "display_name": "Python 3.7.7 64-bit ('base': conda)",
   "language": "python",
   "name": "python3"
  },
  "language_info": {
   "codemirror_mode": {
    "name": "ipython",
    "version": 3
   },
   "file_extension": ".py",
   "mimetype": "text/x-python",
   "name": "python",
   "nbconvert_exporter": "python",
   "pygments_lexer": "ipython3",
   "version": "3.7.7"
  },
  "orig_nbformat": 4
 },
 "nbformat": 4,
 "nbformat_minor": 2
}
